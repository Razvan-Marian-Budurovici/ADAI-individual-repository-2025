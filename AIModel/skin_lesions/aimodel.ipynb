{
 "cells": [
  {
   "cell_type": "code",
   "execution_count": 225,
   "id": "70f0e4b6",
   "metadata": {},
   "outputs": [],
   "source": [
    "import pandas as pd\n",
    "import tensorflow as tf\n",
    "from tensorflow.keras import layers, models\n",
    "from sklearn.preprocessing import LabelEncoder\n",
    "from sklearn.model_selection import train_test_split"
   ]
  },
  {
   "cell_type": "code",
   "execution_count": 226,
   "id": "488f3006",
   "metadata": {},
   "outputs": [
    {
     "name": "stdout",
     "output_type": "stream",
     "text": [
      "disease\n",
      "other                              179\n",
      "melanocytic-nevi                   119\n",
      "seborrheic-keratosis                58\n",
      "verruca-vulgaris                    50\n",
      "basal-cell-carcinoma                41\n",
      "epidermal-cyst                      35\n",
      "mycosis-fungoides                   32\n",
      "squamous-cell-carcinoma-in-situ     28\n",
      "dermatofibroma                      22\n",
      "acrochordon                         19\n",
      "squamous-cell-carcinoma             17\n",
      "dysplastic-nevus                    16\n",
      "seborrheic-keratosis-irritated      14\n",
      "pyogenic-granuloma                  14\n",
      "neurofibroma                        12\n",
      "Name: count, dtype: int64\n"
     ]
    }
   ],
   "source": [
    "df = pd.read_csv(\"ddi_metadata.csv\")\n",
    "\n",
    "counts = df['disease'].value_counts()\n",
    "\n",
    "rare_classes = counts[counts < 12].index\n",
    "df['disease'] = df['disease'].apply(lambda x: 'other' if x in rare_classes else x)\n",
    "print(df['disease'].value_counts())"
   ]
  },
  {
   "cell_type": "code",
   "execution_count": 227,
   "id": "1bbd1cfc",
   "metadata": {},
   "outputs": [],
   "source": [
    "le = LabelEncoder()\n",
    "df['disease'] = le.fit_transform(df['disease'])\n",
    "num_classes = df['disease'].nunique()"
   ]
  },
  {
   "cell_type": "code",
   "execution_count": 228,
   "id": "56130bb6",
   "metadata": {},
   "outputs": [
    {
     "name": "stdout",
     "output_type": "stream",
     "text": [
      "Train size: 524\n",
      "Val size: 132\n"
     ]
    }
   ],
   "source": [
    "train_df, val_df = train_test_split(df, test_size=0.2, stratify=df['disease'], random_state=42)\n",
    "\n",
    "print(\"Train size:\", len(train_df))\n",
    "print(\"Val size:\", len(val_df))"
   ]
  },
  {
   "cell_type": "code",
   "execution_count": 229,
   "id": "b9905014",
   "metadata": {},
   "outputs": [],
   "source": [
    "IMG_SIZE = (128,128)\n",
    "IMG_DIR = \"ddidiversedermatologyimages\"\n",
    "\n",
    "def load_image(filename, label):\n",
    "    img_path = tf.strings.join([IMG_DIR, \"/\", filename])\n",
    "\n",
    "    img = tf.io.read_file(img_path)\n",
    "    img = tf.image.decode_png(img, channels=3)\n",
    "    img = tf.image.resize(img, IMG_SIZE)\n",
    "    img = img / 255.0\n",
    "\n",
    "    return img, label\n"
   ]
  },
  {
   "cell_type": "code",
   "execution_count": 230,
   "id": "41124023",
   "metadata": {},
   "outputs": [],
   "source": [
    "data_augmentation = tf.keras.Sequential([\n",
    "    layers.RandomFlip(\"horizontal\"),\n",
    "    layers.RandomRotation(0.1),\n",
    "    layers.RandomZoom(0.1),\n",
    "])"
   ]
  },
  {
   "cell_type": "code",
   "execution_count": 231,
   "id": "d9ca3dc8",
   "metadata": {},
   "outputs": [],
   "source": [
    "def build_dataset(df, batch_size=32, augment=False, shuffle=False):\n",
    "    filenames = df['DDI_file'].values\n",
    "    labels = df['disease'].values\n",
    "\n",
    "    ds = tf.data.Dataset.from_tensor_slices((filenames, labels))\n",
    "    ds = ds.map(load_image, num_parallel_calls=tf.data.AUTOTUNE)\n",
    "    if shuffle:\n",
    "        ds = ds.shuffle(buffer_size=1000)\n",
    "    if augment:\n",
    "        ds = ds.map(lambda x,y: (data_augmentation(x), y), num_parallel_calls=tf.data.AUTOTUNE)\n",
    "    ds = ds.batch(batch_size).prefetch(tf.data.AUTOTUNE)\n",
    "    return ds"
   ]
  },
  {
   "cell_type": "code",
   "execution_count": 232,
   "id": "266b38fc",
   "metadata": {},
   "outputs": [],
   "source": [
    "train_ds = build_dataset(train_df, augment=True, shuffle=True)\n",
    "val_ds = build_dataset(val_df)"
   ]
  },
  {
   "cell_type": "code",
   "execution_count": 233,
   "id": "04df14a6",
   "metadata": {},
   "outputs": [
    {
     "name": "stdout",
     "output_type": "stream",
     "text": [
      "disease\n",
      "8     143\n",
      "5      95\n",
      "10     46\n",
      "14     40\n",
      "1      33\n",
      "4      28\n",
      "6      25\n",
      "13     22\n",
      "2      18\n",
      "0      15\n",
      "12     14\n",
      "3      13\n",
      "9      11\n",
      "11     11\n",
      "7      10\n",
      "Name: count, dtype: int64\n",
      "disease\n",
      "8     36\n",
      "5     24\n",
      "10    12\n",
      "14    10\n",
      "1      8\n",
      "6      7\n",
      "4      7\n",
      "13     6\n",
      "0      4\n",
      "2      4\n",
      "12     3\n",
      "9      3\n",
      "3      3\n",
      "11     3\n",
      "7      2\n",
      "Name: count, dtype: int64\n"
     ]
    }
   ],
   "source": [
    "print(train_df['disease'].value_counts())\n",
    "print(val_df['disease'].value_counts())"
   ]
  },
  {
   "cell_type": "code",
   "execution_count": 234,
   "id": "d7995924",
   "metadata": {},
   "outputs": [],
   "source": [
    "model = models.Sequential([\n",
    "    layers.Input(shape=(128,128,3)),\n",
    "    layers.Conv2D(16, (3,3), activation='relu', padding='same'),\n",
    "    layers.MaxPooling2D(2,2),\n",
    "    layers.Conv2D(32, (3,3), activation='relu', padding='same'),\n",
    "    layers.MaxPooling2D(2,2),\n",
    "    layers.Conv2D(64, (3,3), activation='relu', padding='same'),\n",
    "    layers.MaxPooling2D(2,2),\n",
    "    layers.Flatten(),\n",
    "    layers.Dense(128, activation='relu', kernel_regularizer=tf.keras.regularizers.l2(0.001)),\n",
    "    layers.Dropout(0.5),\n",
    "    layers.Dense(num_classes, activation='softmax')\n",
    "])"
   ]
  },
  {
   "cell_type": "code",
   "execution_count": 235,
   "id": "f6eef4d7",
   "metadata": {},
   "outputs": [],
   "source": [
    "model.compile(\n",
    "    optimizer='adam',\n",
    "    loss='sparse_categorical_crossentropy',\n",
    "    metrics=['accuracy']\n",
    ")"
   ]
  },
  {
   "cell_type": "code",
   "execution_count": 236,
   "id": "e5da25a5",
   "metadata": {},
   "outputs": [],
   "source": [
    "callback = tf.keras.callbacks.EarlyStopping(\n",
    "    monitor='val_loss',\n",
    "    patience=5,\n",
    "    restore_best_weights=True\n",
    ")"
   ]
  },
  {
   "cell_type": "code",
   "execution_count": 237,
   "id": "cd45e493",
   "metadata": {},
   "outputs": [
    {
     "name": "stdout",
     "output_type": "stream",
     "text": [
      "Epoch 1/50\n",
      "\u001b[1m17/17\u001b[0m \u001b[32m━━━━━━━━━━━━━━━━━━━━\u001b[0m\u001b[37m\u001b[0m \u001b[1m2s\u001b[0m 41ms/step - accuracy: 0.1597 - loss: 2.8270 - val_accuracy: 0.2727 - val_loss: 2.4940\n",
      "Epoch 2/50\n",
      "\u001b[1m17/17\u001b[0m \u001b[32m━━━━━━━━━━━━━━━━━━━━\u001b[0m\u001b[37m\u001b[0m \u001b[1m1s\u001b[0m 36ms/step - accuracy: 0.2157 - loss: 2.5593 - val_accuracy: 0.2727 - val_loss: 2.4254\n",
      "Epoch 3/50\n",
      "\u001b[1m17/17\u001b[0m \u001b[32m━━━━━━━━━━━━━━━━━━━━\u001b[0m\u001b[37m\u001b[0m \u001b[1m1s\u001b[0m 37ms/step - accuracy: 0.2639 - loss: 2.5234 - val_accuracy: 0.2727 - val_loss: 2.4040\n",
      "Epoch 4/50\n",
      "\u001b[1m17/17\u001b[0m \u001b[32m━━━━━━━━━━━━━━━━━━━━\u001b[0m\u001b[37m\u001b[0m \u001b[1m1s\u001b[0m 37ms/step - accuracy: 0.2750 - loss: 2.4686 - val_accuracy: 0.2727 - val_loss: 2.4066\n",
      "Epoch 5/50\n",
      "\u001b[1m17/17\u001b[0m \u001b[32m━━━━━━━━━━━━━━━━━━━━\u001b[0m\u001b[37m\u001b[0m \u001b[1m1s\u001b[0m 37ms/step - accuracy: 0.2523 - loss: 2.4554 - val_accuracy: 0.2727 - val_loss: 2.3907\n",
      "Epoch 6/50\n",
      "\u001b[1m17/17\u001b[0m \u001b[32m━━━━━━━━━━━━━━━━━━━━\u001b[0m\u001b[37m\u001b[0m \u001b[1m1s\u001b[0m 37ms/step - accuracy: 0.2363 - loss: 2.4582 - val_accuracy: 0.2727 - val_loss: 2.3625\n",
      "Epoch 7/50\n",
      "\u001b[1m17/17\u001b[0m \u001b[32m━━━━━━━━━━━━━━━━━━━━\u001b[0m\u001b[37m\u001b[0m \u001b[1m1s\u001b[0m 49ms/step - accuracy: 0.2875 - loss: 2.3685 - val_accuracy: 0.2727 - val_loss: 2.3635\n",
      "Epoch 8/50\n",
      "\u001b[1m17/17\u001b[0m \u001b[32m━━━━━━━━━━━━━━━━━━━━\u001b[0m\u001b[37m\u001b[0m \u001b[1m2s\u001b[0m 49ms/step - accuracy: 0.2787 - loss: 2.4085 - val_accuracy: 0.2727 - val_loss: 2.3857\n",
      "Epoch 9/50\n",
      "\u001b[1m17/17\u001b[0m \u001b[32m━━━━━━━━━━━━━━━━━━━━\u001b[0m\u001b[37m\u001b[0m \u001b[1m1s\u001b[0m 37ms/step - accuracy: 0.2743 - loss: 2.4091 - val_accuracy: 0.2500 - val_loss: 2.3780\n",
      "Epoch 10/50\n",
      "\u001b[1m17/17\u001b[0m \u001b[32m━━━━━━━━━━━━━━━━━━━━\u001b[0m\u001b[37m\u001b[0m \u001b[1m1s\u001b[0m 38ms/step - accuracy: 0.2539 - loss: 2.3689 - val_accuracy: 0.2727 - val_loss: 2.3617\n",
      "Epoch 11/50\n",
      "\u001b[1m17/17\u001b[0m \u001b[32m━━━━━━━━━━━━━━━━━━━━\u001b[0m\u001b[37m\u001b[0m \u001b[1m1s\u001b[0m 38ms/step - accuracy: 0.2887 - loss: 2.3597 - val_accuracy: 0.2727 - val_loss: 2.3745\n",
      "Epoch 12/50\n",
      "\u001b[1m17/17\u001b[0m \u001b[32m━━━━━━━━━━━━━━━━━━━━\u001b[0m\u001b[37m\u001b[0m \u001b[1m2s\u001b[0m 49ms/step - accuracy: 0.2443 - loss: 2.3858 - val_accuracy: 0.2727 - val_loss: 2.3626\n",
      "Epoch 13/50\n",
      "\u001b[1m17/17\u001b[0m \u001b[32m━━━━━━━━━━━━━━━━━━━━\u001b[0m\u001b[37m\u001b[0m \u001b[1m2s\u001b[0m 44ms/step - accuracy: 0.2776 - loss: 2.3372 - val_accuracy: 0.2727 - val_loss: 2.3856\n",
      "Epoch 14/50\n",
      "\u001b[1m17/17\u001b[0m \u001b[32m━━━━━━━━━━━━━━━━━━━━\u001b[0m\u001b[37m\u001b[0m \u001b[1m1s\u001b[0m 39ms/step - accuracy: 0.2657 - loss: 2.3703 - val_accuracy: 0.2652 - val_loss: 2.3552\n",
      "Epoch 15/50\n",
      "\u001b[1m17/17\u001b[0m \u001b[32m━━━━━━━━━━━━━━━━━━━━\u001b[0m\u001b[37m\u001b[0m \u001b[1m1s\u001b[0m 38ms/step - accuracy: 0.2366 - loss: 2.3413 - val_accuracy: 0.2727 - val_loss: 2.3563\n",
      "Epoch 16/50\n",
      "\u001b[1m17/17\u001b[0m \u001b[32m━━━━━━━━━━━━━━━━━━━━\u001b[0m\u001b[37m\u001b[0m \u001b[1m2s\u001b[0m 52ms/step - accuracy: 0.3044 - loss: 2.3092 - val_accuracy: 0.2576 - val_loss: 2.3800\n",
      "Epoch 17/50\n",
      "\u001b[1m17/17\u001b[0m \u001b[32m━━━━━━━━━━━━━━━━━━━━\u001b[0m\u001b[37m\u001b[0m \u001b[1m1s\u001b[0m 40ms/step - accuracy: 0.2531 - loss: 2.3638 - val_accuracy: 0.2348 - val_loss: 2.3804\n",
      "Epoch 18/50\n",
      "\u001b[1m17/17\u001b[0m \u001b[32m━━━━━━━━━━━━━━━━━━━━\u001b[0m\u001b[37m\u001b[0m \u001b[1m1s\u001b[0m 41ms/step - accuracy: 0.3040 - loss: 2.3379 - val_accuracy: 0.2500 - val_loss: 2.3813\n",
      "Epoch 19/50\n",
      "\u001b[1m17/17\u001b[0m \u001b[32m━━━━━━━━━━━━━━━━━━━━\u001b[0m\u001b[37m\u001b[0m \u001b[1m1s\u001b[0m 39ms/step - accuracy: 0.2845 - loss: 2.2972 - val_accuracy: 0.2500 - val_loss: 2.4064\n"
     ]
    }
   ],
   "source": [
    "history = model.fit(\n",
    "    train_ds,\n",
    "    validation_data=val_ds,\n",
    "    epochs=50,\n",
    "    callbacks=[callback]\n",
    ")\n",
    "\n",
    "model.save(\"cnn_model.keras\")"
   ]
  }
 ],
 "metadata": {
  "kernelspec": {
   "display_name": "Python 3",
   "language": "python",
   "name": "python3"
  },
  "language_info": {
   "codemirror_mode": {
    "name": "ipython",
    "version": 3
   },
   "file_extension": ".py",
   "mimetype": "text/x-python",
   "name": "python",
   "nbconvert_exporter": "python",
   "pygments_lexer": "ipython3",
   "version": "3.12.2"
  }
 },
 "nbformat": 4,
 "nbformat_minor": 5
}
